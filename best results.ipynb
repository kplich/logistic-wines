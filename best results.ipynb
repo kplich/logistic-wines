{
 "cells": [
  {
   "cell_type": "code",
   "execution_count": 1,
   "metadata": {},
   "outputs": [
    {
     "name": "stderr",
     "output_type": "stream",
     "text": [
      "C:\\Programy\\Anaconda\\lib\\site-packages\\sklearn\\cross_validation.py:41: DeprecationWarning: This module was deprecated in version 0.18 in favor of the model_selection module into which all the refactored classes and functions are moved. Also note that the interface of the new CV iterators are different from that of this module. This module will be removed in 0.20.\n",
      "  \"This module will be removed in 0.20.\", DeprecationWarning)\n"
     ]
    }
   ],
   "source": [
    "# Importing the libraries\n",
    "import numpy as np\n",
    "import pandas as pd\n",
    "import matplotlib.pyplot as plt\n",
    "\n",
    "from sklearn.cross_validation import train_test_split\n",
    "from sklearn.preprocessing import StandardScaler\n",
    "\n",
    "from sklearn.linear_model import LogisticRegression\n",
    "\n",
    "from sklearn.metrics import confusion_matrix\n",
    "from sklearn.metrics import classification_report"
   ]
  },
  {
   "cell_type": "code",
   "execution_count": 2,
   "metadata": {},
   "outputs": [
    {
     "name": "stdout",
     "output_type": "stream",
     "text": [
      "   fixed acidity  volatile acidity  citric acid  residual sugar  chlorides  \\\n",
      "0            7.4              0.70         0.00             1.9      0.076   \n",
      "1            7.8              0.88         0.00             2.6      0.098   \n",
      "2            7.8              0.76         0.04             2.3      0.092   \n",
      "3           11.2              0.28         0.56             1.9      0.075   \n",
      "4            7.4              0.70         0.00             1.9      0.076   \n",
      "\n",
      "   free sulfur dioxide  total sulfur dioxide  density    pH  sulphates  \\\n",
      "0                 11.0                  34.0   0.9978  3.51       0.56   \n",
      "1                 25.0                  67.0   0.9968  3.20       0.68   \n",
      "2                 15.0                  54.0   0.9970  3.26       0.65   \n",
      "3                 17.0                  60.0   0.9980  3.16       0.58   \n",
      "4                 11.0                  34.0   0.9978  3.51       0.56   \n",
      "\n",
      "   alcohol  quality  good  \n",
      "0      9.4        5     0  \n",
      "1      9.8        5     0  \n",
      "2      9.8        5     0  \n",
      "3      9.8        6     1  \n",
      "4      9.4        5     0  \n"
     ]
    },
    {
     "data": {
      "text/plain": [
       "array([[-1.95892834e-01, -5.56834399e-01,  4.62334643e-01, ...,\n",
       "         2.06482073e-01, -1.15961429e+00, -9.48173158e-01],\n",
       "       [-1.40052778e+00, -1.33715344e+00, -1.03370076e-01, ...,\n",
       "         1.40757934e-01, -6.89067171e-01, -9.40831096e-02],\n",
       "       [-9.98982797e-01,  4.46432942e-01, -1.33763492e+00, ...,\n",
       "         2.50682696e+00,  4.28482234e-01,  9.57146790e-02],\n",
       "       ...,\n",
       "       [-2.38021275e-02,  1.39396321e+00, -8.74785603e-01, ...,\n",
       "         1.12662003e+00, -7.47885561e-01, -3.78779792e-01],\n",
       "       [-1.95892834e-01,  1.67264858e+00, -5.14672920e-04, ...,\n",
       "        -1.22138624e-01, -1.04197751e+00, -5.68577581e-01],\n",
       "       [-1.05634637e+00,  5.36345983e-04, -1.08049641e+00, ...,\n",
       "         4.69378632e-01,  1.01666613e+00, -9.40831096e-02]])"
      ]
     },
     "execution_count": 2,
     "metadata": {},
     "output_type": "execute_result"
    }
   ],
   "source": [
    "# Importing the dataset\n",
    "dataset = pd.read_csv(\"data/winequality-red.csv\")\n",
    "validation_indexes = pd.read_csv(\"data/validation indexes.csv\")\n",
    "\n",
    "# Introduce new binary variable \"good\" equal 1 for wines with quality greater than or equal 7\n",
    "dataset = dataset.assign(good = dataset[\"quality\"] >= 6)\n",
    "dataset[\"good\"] = dataset[\"good\"].astype(int)\n",
    "print(dataset.head())\n",
    "\n",
    "dataset.drop(labels=validation_indexes[\"index\"], inplace=True)\n",
    "\n",
    "# Extract independent variables - all eleven columns\n",
    "X = dataset.iloc[:, :11] # it's useful not to drop column names - makes outputs clearer\n",
    "\n",
    "# Extract the dependent \"good\" variable\n",
    "y = dataset.iloc[:, 12]\n",
    "\n",
    "# Split the model into test and validation?\n",
    "X_train, X_test, y_train, y_test = train_test_split(X, y, test_size = 0.2, random_state=0)\n",
    "\n",
    "# Scale the data to a standard distribution\n",
    "scaler = StandardScaler()\n",
    "scaler.fit_transform(X)\n",
    "scaler.transform(X_train)\n",
    "scaler.transform(X_test)"
   ]
  },
  {
   "cell_type": "code",
   "execution_count": 4,
   "metadata": {},
   "outputs": [
    {
     "name": "stdout",
     "output_type": "stream",
     "text": [
      "[[ 87  31]\n",
      " [ 29 113]]\n",
      "             precision    recall  f1-score   support\n",
      "\n",
      "          0       0.75      0.74      0.74       118\n",
      "          1       0.78      0.80      0.79       142\n",
      "\n",
      "avg / total       0.77      0.77      0.77       260\n",
      "\n"
     ]
    }
   ],
   "source": [
    "# The default classifier is actually the best!\n",
    "\n",
    "classifier = LogisticRegression()\n",
    "classifier.fit(X_train, y_train)\n",
    "\n",
    "y_pred = classifier.predict(X_test)\n",
    "\n",
    "print(confusion_matrix(y_test, y_pred))\n",
    "print(classification_report(y_test, y_pred))"
   ]
  }
 ],
 "metadata": {
  "kernelspec": {
   "display_name": "Python 3",
   "language": "python",
   "name": "python3"
  },
  "language_info": {
   "codemirror_mode": {
    "name": "ipython",
    "version": 3
   },
   "file_extension": ".py",
   "mimetype": "text/x-python",
   "name": "python",
   "nbconvert_exporter": "python",
   "pygments_lexer": "ipython3",
   "version": "3.7.0"
  }
 },
 "nbformat": 4,
 "nbformat_minor": 2
}
